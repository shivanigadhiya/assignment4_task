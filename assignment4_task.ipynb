{
 "cells": [
  {
   "cell_type": "markdown",
   "id": "0c2ea872-55b5-4f91-8f07-8fe4c4082ad0",
   "metadata": {},
   "source": [
    "Q1, Create a vehicle class with an init method having instance variables as name_of_vehicle, max_speed\n",
    "and average_of_vehicle."
   ]
  },
  {
   "cell_type": "code",
   "execution_count": 2,
   "id": "fe1f678e-ae01-4f81-95f3-2d2a89004a48",
   "metadata": {},
   "outputs": [
    {
     "data": {
      "text/plain": [
       "('toyota', 180, 60)"
      ]
     },
     "execution_count": 2,
     "metadata": {},
     "output_type": "execute_result"
    }
   ],
   "source": [
    "class vehicle:\n",
    "    def __init__(self,name_of_vehicle,max_speed,average_of_vehicle):\n",
    "        self.name_of_vehicle = name_of_vehicle\n",
    "        self.max_speed = max_speed\n",
    "        self.average_of_vehicle=average_of_vehicle\n",
    "    def retrive(self):\n",
    "        return self.name_of_vehicle ,self.max_speed,self.average_of_vehicle\n",
    "vhicle=vehicle(\"toyota\",180,60)\n",
    "vhicle.retrive()"
   ]
  },
  {
   "cell_type": "markdown",
   "id": "6716e85a-6012-4b27-beea-6bbe146d9fe6",
   "metadata": {},
   "source": [
    "Q2. Create a child class car from the vehicle class created in Que 1, which will inherit the vehicle class.\n",
    "Create a method named seating_capacity which takes capacity as an argument and returns the name of\n",
    "the vehicle and its seating capacity."
   ]
  },
  {
   "cell_type": "code",
   "execution_count": 9,
   "id": "1d9ef2d2-2bbc-4231-b0ea-3bbac0e9a3c6",
   "metadata": {},
   "outputs": [
    {
     "data": {
      "text/plain": [
       "6"
      ]
     },
     "execution_count": 9,
     "metadata": {},
     "output_type": "execute_result"
    }
   ],
   "source": [
    "class vehicle:\n",
    "    def __init__(self,name_of_vehicle,max_speed,average_of_vehicle):\n",
    "        self.name_of_vehicle = name_of_vehicle\n",
    "        self.max_speed = max_speed\n",
    "        self.average_of_vehicle=average_of_vehicle\n",
    "    def retrive(self): \n",
    "        return self.name_of_vehicle ,self.max_speed,self.average_of_vehicle\n",
    "        \n",
    "class car(vehicle):\n",
    "    def seating_capicity(self,capacity):\n",
    "        return capacity\n",
    "obj_car = car(\"toyota\",3,6)\n",
    "obj_car.seating_capicity(6)\n",
    "\n",
    "        "
   ]
  },
  {
   "cell_type": "code",
   "execution_count": 10,
   "id": "a183345d-26d0-47a2-b41f-6156d8a906a6",
   "metadata": {},
   "outputs": [
    {
     "data": {
      "text/plain": [
       "'toyota'"
      ]
     },
     "execution_count": 10,
     "metadata": {},
     "output_type": "execute_result"
    }
   ],
   "source": [
    "obj_car.name_of_vehicle"
   ]
  },
  {
   "cell_type": "markdown",
   "id": "b8d79e24-9402-4c9c-937e-e57ad7f7da76",
   "metadata": {},
   "source": [
    "Q3. What is multiple inheritance? Write a python code to demonstrate multiple inheritance."
   ]
  },
  {
   "cell_type": "markdown",
   "id": "35cf0be9-9a9a-4154-b390-f0344b0c5b6e",
   "metadata": {},
   "source": [
    "When a class is derived from more than one base class it is called multiple Inheritance. The derived class inherits all the features of the base case.\n",
    " "
   ]
  },
  {
   "cell_type": "code",
   "execution_count": 12,
   "id": "cc94ae7c-d36f-4f6d-ab01-ea235ede9193",
   "metadata": {},
   "outputs": [
    {
     "name": "stdout",
     "output_type": "stream",
     "text": [
      "this is meth of test2\n"
     ]
    }
   ],
   "source": [
    "class test:\n",
    "    def meth_test1(self):\n",
    "        print(\"this is meth of test1\")\n",
    "class testt:\n",
    "    def meth_test2(self):\n",
    "        print(\"this is meth of test2\")\n",
    "class child_class(test,testt):\n",
    "    pass\n",
    "obj_child_class = child_class()\n",
    "obj_child_class.meth_test2()"
   ]
  },
  {
   "cell_type": "markdown",
   "id": "4edebaf7-d8be-4067-8c9b-9d65bbd04680",
   "metadata": {},
   "source": [
    "Q4. What are getter and setter in python? Create a class and create a getter and a setter method in this\n",
    "class."
   ]
  },
  {
   "cell_type": "markdown",
   "id": "6045f968-0fbd-414c-81f5-27f15e89e233",
   "metadata": {},
   "source": [
    "When we make private variable using with __init__ ,If we want to give access of this private variable to user so that he or she can modify that varible value.We can use getter and setter for these reasons."
   ]
  },
  {
   "cell_type": "code",
   "execution_count": 16,
   "id": "1e729380-097f-4a6a-ab08-adbb0d1804b0",
   "metadata": {},
   "outputs": [
    {
     "data": {
      "text/plain": [
       "3500"
      ]
     },
     "execution_count": 16,
     "metadata": {},
     "output_type": "execute_result"
    }
   ],
   "source": [
    "class pwskills:\n",
    "    def __init__(self,course_name,course_price):\n",
    "        self.course_name =  course_name\n",
    "        self.__course_price = course_price\n",
    "    @property\n",
    "    def course_price_access(self):\n",
    "        return self.__course_price\n",
    "pw = pwskills(\"data science\",3500)\n",
    "pw.course_price_access"
   ]
  },
  {
   "cell_type": "code",
   "execution_count": 19,
   "id": "609f3385-1f61-41f2-a071-7b1d0e7b5b4a",
   "metadata": {},
   "outputs": [
    {
     "data": {
      "text/plain": [
       "4500"
      ]
     },
     "execution_count": 19,
     "metadata": {},
     "output_type": "execute_result"
    }
   ],
   "source": [
    "class pwskills4:\n",
    "    def __init__(self,course_price,course_name):\n",
    "        self.__course_price=course_price\n",
    "        self.course_name=course_name\n",
    "    @property\n",
    "    def course_price_access(self):\n",
    "        return self.__course_price\n",
    "    @course_price_access.setter\n",
    "    def course_price_set(self,price):\n",
    "        if price<=3500:\n",
    "            pass\n",
    "        else:\n",
    "            self.__course_price = price\n",
    "pw = pwskills4(3500,\"data science\")\n",
    "pw.course_price_set = 4500\n",
    "pw.course_price_access\n",
    "                "
   ]
  },
  {
   "cell_type": "markdown",
   "id": "f75ee45f-c1ec-44b4-9496-8b228100063b",
   "metadata": {},
   "source": [
    "Q5.What is method overriding in python? Write a python code to demonstrate method overriding."
   ]
  },
  {
   "cell_type": "markdown",
   "id": "ebb11423-5824-49bf-86e8-32cb9587091b",
   "metadata": {},
   "source": [
    "Method overriding is an ability of any object-oriented programming language that allows a subclass or child class to provide a specific implementation of a method that is already provided by one of its super-classes or parent classes."
   ]
  },
  {
   "cell_type": "code",
   "execution_count": 20,
   "id": "81f5110b-8077-4101-bd3b-2481aa775ca7",
   "metadata": {},
   "outputs": [
    {
     "name": "stdout",
     "output_type": "stream",
     "text": [
      "Inside Parent\n",
      "Inside Child\n"
     ]
    }
   ],
   "source": [
    "# Python program to demonstrate\n",
    "# method overriding\n",
    "\n",
    "\n",
    "# Defining parent class\n",
    "class Parent():\n",
    "\t\n",
    "\t# Constructor\n",
    "\tdef __init__(self):\n",
    "\t\tself.value = \"Inside Parent\"\n",
    "\t\t\n",
    "\t# Parent's show method\n",
    "\tdef show(self):\n",
    "\t\tprint(self.value)\n",
    "\t\t\n",
    "# Defining child class\n",
    "class Child(Parent):\n",
    "\t\n",
    "\t# Constructor\n",
    "\tdef __init__(self):\n",
    "\t\tself.value = \"Inside Child\"\n",
    "\t\t\n",
    "\t# Child's show method\n",
    "\tdef show(self):\n",
    "\t\tprint(self.value)\n",
    "\t\t\n",
    "\t\t\n",
    "# Driver's code\n",
    "obj1 = Parent()\n",
    "obj2 = Child()\n",
    "\n",
    "obj1.show()\n",
    "obj2.show()\n"
   ]
  },
  {
   "cell_type": "code",
   "execution_count": null,
   "id": "94882de4-0ecd-4cbb-bc88-70933a0d33a2",
   "metadata": {},
   "outputs": [],
   "source": []
  }
 ],
 "metadata": {
  "kernelspec": {
   "display_name": "Python 3 (ipykernel)",
   "language": "python",
   "name": "python3"
  },
  "language_info": {
   "codemirror_mode": {
    "name": "ipython",
    "version": 3
   },
   "file_extension": ".py",
   "mimetype": "text/x-python",
   "name": "python",
   "nbconvert_exporter": "python",
   "pygments_lexer": "ipython3",
   "version": "3.10.8"
  }
 },
 "nbformat": 4,
 "nbformat_minor": 5
}
